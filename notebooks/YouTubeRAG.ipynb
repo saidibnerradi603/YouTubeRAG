{
 "cells": [
  {
   "cell_type": "markdown",
   "id": "2012e209-ac4c-4a8f-a289-ef105a876803",
   "metadata": {},
   "source": [
    "# RAG-based YouTube Q&A"
   ]
  },
  {
   "cell_type": "markdown",
   "id": "03d8f585-9622-4a51-974e-9bf360aedfe0",
   "metadata": {},
   "source": [
    "## 1. Introduction & Project Goal"
   ]
  },
  {
   "cell_type": "markdown",
   "id": "45100819-070d-4e32-8729-247aa84a1c6e",
   "metadata": {},
   "source": [
    "This notebook provides a complete walkthrough for building a  application that allows you to \"chat\" with  YouTube video. The core idea is to leverage a  **Naive  Retrieval-Augmented Generation** architecture to answer questions based on a video's transcribed content."
   ]
  },
  {
   "cell_type": "markdown",
   "id": "c53b9336-6106-4ec9-b4ed-2222ecc53cf8",
   "metadata": {},
   "source": [
    "### The Problem We're Solving"
   ]
  },
  {
   "cell_type": "markdown",
   "id": "5cf1516d-8c99-4060-92d6-881cfe8cd4e0",
   "metadata": {},
   "source": [
    "YouTube is a vast repository of knowledge, but long videos like lectures, podcasts, and documentaries make it difficult to find specific information quickly. Our goal is to build a system where a user can provide a YouTube video URL, and then ask specific questions to get instant, accurate answers sourced directly from the video's content, effectively creating a conversational search engine for that video."
   ]
  },
  {
   "cell_type": "markdown",
   "id": "9a254392-f35d-4884-a9ee-98b3a7990fce",
   "metadata": {},
   "source": [
    "### Retrieval-Augmented Generation "
   ]
  },
  {
   "cell_type": "markdown",
   "id": "1e49f7b0-94e2-4c17-a9e5-0f0612c0820c",
   "metadata": {},
   "source": [
    "RAG is a technique for building LLM-based applications that can answer questions about specific, private data. Instead of relying solely on the LLM's pre-trained knowledge (which can be outdated or generic), RAG grounds the model's responses in a relevant context that we provide.\n",
    "\n",
    "The process involves two main stages:\n",
    "1.  **Indexing**: We process our data source (the YouTube transcript) by breaking it into chunks, converting these chunks into numerical representations (embeddings), and storing them in a searchable vector database.\n",
    "    \n",
    "2.  **Retrieval & Generation**:\n",
    "    \n",
    "    -   **Retrieval**: When a user asks a question, we convert that query into an embedding using the same embedding model. We then search the vector database for the most semantically similar transcript chunks those most relevant to the user's question \n",
    "        \n",
    "    -   **Augmentation & Generation**: We build a prompt by concatenating those retrieved chunks (with some formatting) alongside the original question. This augmented prompt is fed into the LLM, guiding it to generate an answer that’s directly grounded in the provided text rather than relying on generalized or out-of-date internal knowledge\n",
    "        \n",
    "  \n",
    "We will use the **LangChain** framework to orchestrate this entire pipeline, leveraging its powerful components and the LangChain Expression Language to build a clean, modular, and efficient chain."
   ]
  },
  {
   "cell_type": "markdown",
   "id": "d27a4166-24ff-48f3-97b0-a2f02f701d54",
   "metadata": {},
   "source": [
    "## 2. Setup and Installations"
   ]
  },
  {
   "cell_type": "markdown",
   "id": "9dd91f6f-c3ab-475b-b37d-4a7e6ba57745",
   "metadata": {},
   "source": [
    "First, we need to install the necessary Python libraries and configure our environment with the required API keys."
   ]
  },
  {
   "cell_type": "markdown",
   "id": "c8195498-3273-4b12-8bfd-c43443148286",
   "metadata": {},
   "source": [
    "### 2.1. Create and activate a virtual environment"
   ]
  },
  {
   "cell_type": "code",
   "execution_count": null,
   "id": "ac947a03-dc4f-48c8-83f1-596b040b13d4",
   "metadata": {},
   "outputs": [],
   "source": [
    "# Navigate to the project root directory\n",
    "cd youtube-rag\n",
    "\n",
    "python -m venv youtube_rag_env\n",
    ".\\youtube_rag_env\\Scripts\\activate\n",
    "# On Unix or MacOS\n",
    "# source youtube_rag_env/bin/activate"
   ]
  },
  {
   "cell_type": "markdown",
   "id": "591cec00-58b2-4882-af11-34275194937e",
   "metadata": {},
   "source": [
    "### 2.2 Install dependencies"
   ]
  },
  {
   "cell_type": "code",
   "execution_count": null,
   "id": "622bf242-416b-47f8-a854-aaa1377c2b9d",
   "metadata": {},
   "outputs": [],
   "source": [
    "pip install -r requirements.txt"
   ]
  },
  {
   "cell_type": "markdown",
   "id": "4191aca9-4287-462f-ac31-65634a1af69f",
   "metadata": {},
   "source": [
    "### 2.2. Setting Up API Keys"
   ]
  },
  {
   "cell_type": "code",
   "execution_count": null,
   "id": "f3010874-0786-4694-8675-575f617d03a9",
   "metadata": {},
   "outputs": [],
   "source": [
    "# Create a .env file with the following:\n",
    "# PINECONE_API_KEY=your_pinecone_api_key\n",
    "# COHERE_API_KEY=your_cohere_api_key\n",
    "# GOOGLE_API_KEY=your_google_api_key"
   ]
  },
  {
   "cell_type": "code",
   "execution_count": 12,
   "id": "6f5df9b1-4516-47b4-9676-c5ffd7c55132",
   "metadata": {},
   "outputs": [
    {
     "data": {
      "text/plain": [
       "True"
      ]
     },
     "execution_count": 12,
     "metadata": {},
     "output_type": "execute_result"
    }
   ],
   "source": [
    "# load environment variables from .env file\n",
    "import os\n",
    "from dotenv import load_dotenv\n",
    "load_dotenv()"
   ]
  },
  {
   "cell_type": "markdown",
   "id": "0d4f019a-4ebc-45ea-9ee4-e5dabab11799",
   "metadata": {},
   "source": [
    "## 3. Project Architecture "
   ]
  },
  {
   "cell_type": "markdown",
   "id": "55ef08a9-e447-4c32-813b-d12ce827c4af",
   "metadata": {},
   "source": [
    "![Technical Architecture](https://raw.githubusercontent.com/saidibnerradi603/YouTubeRAG/master/img/technical_architecture.png?token=GHSAT0AAAAAADESO7444ZIZUJQUQNJMZZCU2ELZ7GQ)\n"
   ]
  },
  {
   "cell_type": "markdown",
   "id": "cde04cf8",
   "metadata": {},
   "source": [
    "#### Data Flow Process\n",
    "\n",
    "1. **Content Extraction**\n",
    "   - System starts with a YouTube video\n",
    "   - YouTube Transcript API extracts the spoken content as text\n",
    "\n",
    "2. **Processing & Indexing**\n",
    "   - Text Splitter breaks the transcript into manageable chunks\n",
    "   - Embedding Model (Cohere) converts each chunk into vector embeddings\n",
    "   - These embeddings are stored in a Vector Database (Pinecone)\n",
    "\n",
    "3. **Query Handling**\n",
    "   - When a user asks a question about the video\n",
    "   - The system converts their query into the same vector space\n",
    "   - The Retriever performs a semantic search to find the most relevant chunks\n",
    "\n",
    "4. **Response Generation**\n",
    "   - Retrieved chunks are combined with the original query\n",
    "   - A prompt template structures this information\n",
    "   - LLM (Gemini) generates a comprehensive response based solely on the provided context\n",
    "\n",
    "#### Key Components\n",
    "\n",
    "- **Vector Database**: Enables semantic search through embeddings\n",
    "- **Retriever**: Finds the most relevant information using similarity matching\n",
    "- **Prompt Engineering**: Structures context and query for optimal LLM understanding\n",
    "- **LLM**: Generates human-like responses grounded in the video content"
   ]
  },
  {
   "cell_type": "markdown",
   "id": "b6476b74-1917-47c0-9a1c-3c263c15946a",
   "metadata": {},
   "source": [
    "##  Phase 1: Indexing the YouTube Video"
   ]
  },
  {
   "cell_type": "markdown",
   "id": "736118fc-ce6e-4755-9a78-8b8b69dc713e",
   "metadata": {},
   "source": [
    "In this phase, we'll take a YouTube video, process its transcript, and prepare it for querying."
   ]
  },
  {
   "cell_type": "markdown",
   "id": "773f09f8-6e13-4daf-ac2e-72c10eaa52c0",
   "metadata": {},
   "source": [
    "### 1.1. Document Loading"
   ]
  },
  {
   "cell_type": "markdown",
   "id": "d7d5389a-7f6d-4817-9efd-07009a9e4ffe",
   "metadata": {},
   "source": [
    "We start by defining the YouTube video we want to work with and fetching its transcript. The ``youtube-transcript-api`` library makes this straightforward by allowing us to retrieve captions directly using the video ID.\n"
   ]
  },
  {
   "cell_type": "code",
   "execution_count": 3,
   "id": "17351100-0f13-4877-b200-9faccb8b0226",
   "metadata": {
    "scrolled": true
   },
   "outputs": [],
   "source": [
    "from youtube_transcript_api import YouTubeTranscriptApi\n",
    "from langchain.docstore.document import Document\n",
    "\n",
    "video_id=\"aircAruvnKk\"\n",
    "# Get transcript using youtube-transcript-api\n",
    "transcript_list = YouTubeTranscriptApi.get_transcript(\n",
    "    video_id, \n",
    "    languages=[\"en\"]\n",
    ")\n",
    "            \n",
    "# Combine all transcript segments into a single text\n",
    "full_transcript = \" \".join([segment['text'] for segment in transcript_list])\n",
    "\n",
    "# Create Document object to match LangChain format\n",
    "documents = [Document(\n",
    "    page_content=full_transcript,\n",
    "    metadata={\n",
    "        'source': video_id,\n",
    "    }\n",
    ")]"
   ]
  },
  {
   "cell_type": "code",
   "execution_count": 4,
   "id": "1b873ebb-21a6-4515-92c1-05a08be72d8f",
   "metadata": {
    "scrolled": true
   },
   "outputs": [
    {
     "data": {
      "text/plain": [
       "[Document(metadata={'source': 'aircAruvnKk'}, page_content=\"This is a 3. It's sloppily written and rendered at an extremely low resolution of 28x28 pixels, but your brain has no trouble recognizing it as a 3. And I want you to take a moment to appreciate how crazy it is that brains can do this so effortlessly. I mean, this, this and this are also recognizable as 3s, even though the specific values of each pixel is very different from one image to the next. The particular light-sensitive cells in your eye that are firing when you see this 3 are very different from the ones firing when you see this 3. But something in that crazy-smart visual cortex of yours resolves these as representing the same idea, while at the same time recognizing other images as their own distinct ideas. But if I told you, hey, sit down and write for me a program that takes in a grid of 28x28 pixels like this and outputs a single number between 0 and 10, telling you what it thinks the digit is, well the task goes from comically trivial to dauntingly difficult. Unless you've been living under a rock, I think I hardly need to motivate the relevance and importance of machine learning and neural networks to the present and to the future. But what I want to do here is show you what a neural network actually is, assuming no background, and to help visualize what it's doing, not as a buzzword but as a piece of math. My hope is that you come away feeling like the structure itself is motivated, and to feel like you know what it means when you read, or you hear about a neural network quote-unquote learning. This video is just going to be devoted to the structure component of that, and the following one is going to tackle learning. What we're going to do is put together a neural network that can learn to recognize handwritten digits. This is a somewhat classic example for introducing the topic, and I'm happy to stick with the status quo here, because at the end of the two videos I want to point you to a couple good resources where you can learn more, and where you can download the code that does this and play with it on your own computer. There are many many variants of neural networks, and in recent years there's been sort of a boom in research towards these variants, but in these two introductory videos you and I are just going to look at the simplest plain vanilla form with no added frills. This is kind of a necessary prerequisite for understanding any of the more powerful modern variants, and trust me it still has plenty of complexity for us to wrap our minds around. But even in this simplest form it can learn to recognize handwritten digits, which is a pretty cool thing for a computer to be able to do. And at the same time you'll see how it does fall short of a couple hopes that we might have for it. As the name suggests neural networks are inspired by the brain, but let's break that down. What are the neurons, and in what sense are they linked together? Right now when I say neuron all I want you to think about is a thing that holds a number, specifically a number between 0 and 1. It's really not more than that. For example the network starts with a bunch of neurons corresponding to each of the 28x28 pixels of the input image, which is 784 neurons in total. Each one of these holds a number that represents the grayscale value of the corresponding pixel, ranging from 0 for black pixels up to 1 for white pixels. This number inside the neuron is called its activation, and the image you might have in mind here is that each neuron is lit up when its activation is a high number. So all of these 784 neurons make up the first layer of our network. Now jumping over to the last layer, this has 10 neurons, each representing one of the digits. The activation in these neurons, again some number that's between 0 and 1, represents how much the system thinks that a given image corresponds with a given digit. There's also a couple layers in between called the hidden layers, which for the time being should just be a giant question mark for how on earth this process of recognizing digits is going to be handled. In this network I chose two hidden layers, each one with 16 neurons, and admittedly that's kind of an arbitrary choice. To be honest I chose two layers based on how I want to motivate the structure in just a moment, and 16, well that was just a nice number to fit on the screen. In practice there is a lot of room for experiment with a specific structure here. The way the network operates, activations in one layer determine the activations of the next layer. And of course the heart of the network as an information processing mechanism comes down to exactly how those activations from one layer bring about activations in the next layer. It's meant to be loosely analogous to how in biological networks of neurons, some groups of neurons firing cause certain others to fire. Now the network I'm showing here has already been trained to recognize digits, and let me show you what I mean by that. It means if you feed in an image, lighting up all 784 neurons of the input layer according to the brightness of each pixel in the image, that pattern of activations causes some very specific pattern in the next layer which causes some pattern in the one after it, which finally gives some pattern in the output layer. And the brightest neuron of that output layer is the network's choice, so to speak, for what digit this image represents. And before jumping into the math for how one layer influences the next, or how training works, let's just talk about why it's even reasonable to expect a layered structure like this to behave intelligently. What are we expecting here? What is the best hope for what those middle layers might be doing? Well, when you or I recognize digits, we piece together various components. A 9 has a loop up top and a line on the right. An 8 also has a loop up top, but it's paired with another loop down low. A 4 basically breaks down into three specific lines, and things like that. Now in a perfect world, we might hope that each neuron in the second to last layer corresponds with one of these subcomponents, that anytime you feed in an image with, say, a loop up top, like a 9 or an 8, there's some specific neuron whose activation is going to be close to 1. And I don't mean this specific loop of pixels, the hope would be that any generally loopy pattern towards the top sets off this neuron. That way, going from the third layer to the last one just requires learning which combination of subcomponents corresponds to which digits. Of course, that just kicks the problem down the road, because how would you recognize these subcomponents, or even learn what the right subcomponents should be? And I still haven't even talked about how one layer influences the next, but run with me on this one for a moment. Recognizing a loop can also break down into subproblems. One reasonable way to do this would be to first recognize the various little edges that make it up. Similarly, a long line, like the kind you might see in the digits 1 or 4 or 7, is really just a long edge, or maybe you think of it as a certain pattern of several smaller edges. So maybe our hope is that each neuron in the second layer of the network corresponds with the various relevant little edges. Maybe when an image like this one comes in, it lights up all of the neurons associated with around 8 to 10 specific little edges, which in turn lights up the neurons associated with the upper loop and a long vertical line, and those light up the neuron associated with a 9. Whether or not this is what our final network actually does is another question, one that I'll come back to once we see how to train the network, but this is a hope that we might have, a sort of goal with the layered structure like this. Moreover, you can imagine how being able to detect edges and patterns like this would be really useful for other image recognition tasks. And even beyond image recognition, there are all sorts of intelligent things you might want to do that break down into layers of abstraction. Parsing speech, for example, involves taking raw audio and picking out distinct sounds, which combine to make certain syllables, which combine to form words, which combine to make up phrases and more abstract thoughts, etc. But getting back to how any of this actually works, picture yourself right now designing how exactly the activations in one layer might determine the activations in the next. The goal is to have some mechanism that could conceivably combine pixels into edges, or edges into patterns, or patterns into digits. And to zoom in on one very specific example, let's say the hope is for one particular neuron in the second layer to pick up on whether or not the image has an edge in this region here. The question at hand is what parameters should the network have? What dials and knobs should you be able to tweak so that it's expressive enough to potentially capture this pattern, or any other pixel pattern, or the pattern that several edges can make a loop, and other such things? Well, what we'll do is assign a weight to each one of the connections between our neuron and the neurons from the first layer. These weights are just numbers. Then take all of those activations from the first layer and compute their weighted sum according to these weights. I find it helpful to think of these weights as being organized into a little grid of their own, and I'm going to use green pixels to indicate positive weights, and red pixels to indicate negative weights, where the brightness of that pixel is some loose depiction of the weight's value. Now if we made the weights associated with almost all of the pixels zero except for some positive weights in this region that we care about, then taking the weighted sum of all the pixel values really just amounts to adding up the values of the pixel just in the region that we care about. And if you really wanted to pick up on whether there's an edge here, what you might do is have some negative weights associated with the surrounding pixels. Then the sum is largest when those middle pixels are bright but the surrounding pixels are darker. When you compute a weighted sum like this, you might come out with any number, but for this network what we want is for activations to be some value between 0 and 1. So a common thing to do is to pump this weighted sum into some function that squishes the real number line into the range between 0 and 1. And a common function that does this is called the sigmoid function, also known as a logistic curve. Basically very negative inputs end up close to 0, positive inputs end up close to 1, and it just steadily increases around the input 0. So the activation of the neuron here is basically a measure of how positive the relevant weighted sum is. But maybe it's not that you want the neuron to light up when the weighted sum is bigger than 0. Maybe you only want it to be active when the sum is bigger than say 10. That is, you want some bias for it to be inactive. What we'll do then is just add in some other number like negative 10 to this weighted sum before plugging it through the sigmoid squishification function. That additional number is called the bias. So the weights tell you what pixel pattern this neuron in the second layer is picking up on, and the bias tells you how high the weighted sum needs to be before the neuron starts getting meaningfully active. And that is just one neuron. Every other neuron in this layer is going to be connected to all 784 pixel neurons from the first layer, and each one of those 784 connections has its own weight associated with it. Also, each one has some bias, some other number that you add on to the weighted sum before squishing it with the sigmoid. And that's a lot to think about! With this hidden layer of 16 neurons, that's a total of 784 times 16 weights, along with 16 biases. And all of that is just the connections from the first layer to the second. The connections between the other layers also have a bunch of weights and biases associated with them. All said and done, this network has almost exactly 13,000 total weights and biases. 13,000 knobs and dials that can be tweaked and turned to make this network behave in different ways. So when we talk about learning, what that's referring to is getting the computer to find a valid setting for all of these many many numbers so that it'll actually solve the problem at hand. One thought experiment that is at once fun and kind of horrifying is to imagine sitting down and setting all of these weights and biases by hand, purposefully tweaking the numbers so that the second layer picks up on edges, the third layer picks up on patterns, etc. I personally find this satisfying rather than just treating the network as a total black box, because when the network doesn't perform the way you anticipate, if you've built up a little bit of a relationship with what those weights and biases actually mean, you have a starting place for experimenting with how to change the structure to improve. Or when the network does work but not for the reasons you might expect, digging into what the weights and biases are doing is a good way to challenge your assumptions and really expose the full space of possible solutions. By the way, the actual function here is a little cumbersome to write down, don't you think? So let me show you a more notationally compact way that these connections are represented. This is how you'd see it if you choose to read up more about neural networks. Organize all of the activations from one layer into a column as a vector. Then organize all of the weights as a matrix, where each row of that matrix corresponds to the connections between one layer and a particular neuron in the next layer. What that means is that taking the weighted sum of the activations in the first layer according to these weights corresponds to one of the terms in the matrix vector product of everything we have on the left here. By the way, so much of machine learning just comes down to having a good grasp of linear algebra, so for any of you who want a nice visual understanding for matrices and what matrix vector multiplication means, take a look at the series I did on linear algebra, especially chapter 3. Back to our expression, instead of talking about adding the bias to each one of these values independently, we represent it by organizing all those biases into a vector, and adding the entire vector to the previous matrix vector product. Then as a final step, I'll wrap a sigmoid around the outside here, and what that's supposed to represent is that you're going to apply the sigmoid function to each specific component of the resulting vector inside. So once you write down this weight matrix and these vectors as their own symbols, you can communicate the full transition of activations from one layer to the next in an extremely tight and neat little expression, and this makes the relevant code both a lot simpler and a lot faster, since many libraries optimize the heck out of matrix multiplication. Remember how earlier I said these neurons are simply things that hold numbers? Well of course the specific numbers that they hold depends on the image you feed in, so it's actually more accurate to think of each neuron as a function, one that takes in the outputs of all the neurons in the previous layer and spits out a number between 0 and 1. Really the entire network is just a function, one that takes in 784 numbers as an input and spits out 10 numbers as an output. It's an absurdly complicated function, one that involves 13,000 parameters in the forms of these weights and biases that pick up on certain patterns, and which involves iterating many matrix vector products and the sigmoid squishification function, but it's just a function nonetheless. And in a way it's kind of reassuring that it looks complicated. I mean if it were any simpler, what hope would we have that it could take on the challenge of recognizing digits? And how does it take on that challenge? How does this network learn the appropriate weights and biases just by looking at data? Well that's what I'll show in the next video, and I'll also dig a little more into what this particular network we're seeing is really doing. Now is the point I suppose I should say subscribe to stay notified about when that video or any new videos come out, but realistically most of you don't actually receive notifications from YouTube, do you? Maybe more honestly I should say subscribe so that the neural networks that underlie YouTube's recommendation algorithm are primed to believe that you want to see content from this channel get recommended to you. Anyway, stay posted for more. Thank you very much to everyone supporting these videos on Patreon. I've been a little slow to progress in the probability series this summer, but I'm jumping back into it after this project, so patrons you can look out for updates there. To close things off here I have with me Lisha Li who did her PhD work on the theoretical side of deep learning and who currently works at a venture capital firm called Amplify Partners who kindly provided some of the funding for this video. So Lisha one thing I think we should quickly bring up is this sigmoid function. As I understand it early networks use this to squish the relevant weighted sum into that interval between zero and one, you know kind of motivated by this biological analogy of neurons either being inactive or active. Exactly.\\nBut relatively few modern networks actually use sigmoid anymore. Yeah.\\nIt's kind of old school right? Yeah or rather ReLU seems to be much easier to train. And ReLU, ReLU stands for rectified linear unit? Yes it's this kind of function where you're just taking a max of zero and a where a is given by what you were explaining in the video and what this was sort of motivated from I think was a partially by a biological analogy with how neurons would either be activated or not. And so if it passes a certain threshold it would be the identity function but if it did not then it would just not be activated so it'd be zero so it's kind of a simplification. Using sigmoids didn't help training or it was very difficult to train at some point and people just tried ReLU and it happened to work very well for these incredibly deep neural networks. All right thank you Lisha.\")]"
      ]
     },
     "execution_count": 4,
     "metadata": {},
     "output_type": "execute_result"
    }
   ],
   "source": [
    "documents"
   ]
  },
  {
   "cell_type": "markdown",
   "id": "96c76526-183c-4998-b92f-5236548bc239",
   "metadata": {},
   "source": [
    "### 1.2. Text Splitting (Chunking)"
   ]
  },
  {
   "cell_type": "markdown",
   "id": "0fd685f7-72d1-4331-85c5-f1f2b4870b53",
   "metadata": {},
   "source": [
    "The complete transcript is too long to fit into a single LLM prompt. We need to split it into smaller, semantically meaningful chunks. We'll use LangChain's ``RecursiveCharacterTextSplitter``, which is effective at keeping related text together."
   ]
  },
  {
   "cell_type": "code",
   "execution_count": 5,
   "id": "b4e67cc0-1f5c-423b-9507-1505e5b638e4",
   "metadata": {},
   "outputs": [],
   "source": [
    "from langchain.text_splitter import RecursiveCharacterTextSplitter\n",
    "\n",
    "text_splitter=RecursiveCharacterTextSplitter(\n",
    "    chunk_size=1000,\n",
    "    chunk_overlap=200\n",
    ")\n",
    "\n",
    "docs = text_splitter.split_documents(documents)"
   ]
  },
  {
   "cell_type": "code",
   "execution_count": 6,
   "id": "e960cfa2-90b1-473c-90f5-5d1ddfa4f8b5",
   "metadata": {},
   "outputs": [
    {
     "name": "stdout",
     "output_type": "stream",
     "text": [
      "Number of text chunks: 23\n",
      "_________________________\n",
      "\n",
      "First text chunk:  This is a 3. It's sloppily written and rendered at an extremely low resolution of 28x28 pixels, but your brain has no trouble recognizing it as a 3. And I want you to take a moment to appreciate how crazy it is that brains can do this so effortlessly. I mean, this, this and this are also recognizable as 3s, even though the specific values of each pixel is very different from one image to the next. The particular light-sensitive cells in your eye that are firing when you see this 3 are very different from the ones firing when you see this 3. But something in that crazy-smart visual cortex of yours resolves these as representing the same idea, while at the same time recognizing other images as their own distinct ideas. But if I told you, hey, sit down and write for me a program that takes in a grid of 28x28 pixels like this and outputs a single number between 0 and 10, telling you what it thinks the digit is, well the task goes from comically trivial to dauntingly difficult. Unless\n",
      "First text chunk:  {'source': 'aircAruvnKk'}\n"
     ]
    }
   ],
   "source": [
    "print(\"Number of text chunks:\",len(docs))\n",
    "print(\"_________________________\\n\")\n",
    "print(\"First text chunk: \" , docs[0].page_content)\n",
    "print(\"First text chunk: \" , docs[0].metadata)"
   ]
  },
  {
   "cell_type": "markdown",
   "id": "9e77daa4-e083-490f-bb1b-420a2533025e",
   "metadata": {},
   "source": [
    "### 1.3. Embedding and Vector Store Creation"
   ]
  },
  {
   "cell_type": "markdown",
   "id": "9e6584eb-30b0-4eea-9290-17d66a45576c",
   "metadata": {},
   "source": [
    "Now, we'll convert each chunk into a ``vector embedding`` and store it in a ``Pinecone`` vector store. This allows for fast and efficient retrieval based on semantic similarity."
   ]
  },
  {
   "cell_type": "code",
   "execution_count": null,
   "id": "f08ee4fa-e36a-461c-9925-1af15db53d28",
   "metadata": {},
   "outputs": [],
   "source": [
    "import os\n",
    "from pinecone import Pinecone, ServerlessSpec\n",
    "\n",
    "pc = Pinecone(api_key=os.environ.get(\"PINECONE_API_KEY\"))\n",
    "\n",
    "# Create index if it doesn't exist\n",
    "index_name = \"youtube-rag-pdf\"\n",
    "if not pc.has_index(index_name):\n",
    "    pc.create_index(\n",
    "        name=index_name,\n",
    "        dimension=1024,  \n",
    "        metric=\"cosine\",\n",
    "        spec=ServerlessSpec(cloud=\"aws\", region=\"us-east-1\")\n",
    "    )\n",
    "\n",
    "# Connect\n",
    "index = pc.Index(index_name)"
   ]
  },
  {
   "cell_type": "code",
   "execution_count": 15,
   "id": "5ebc47a6-5815-4d9b-a0c3-4f6b93b8f7a5",
   "metadata": {
    "scrolled": true
   },
   "outputs": [
    {
     "data": {
      "text/plain": [
       "['d8ff86fa-5705-46db-8638-788a10239659',\n",
       " '8a295bca-0cdc-49ed-a98a-bb224e7b6a56',\n",
       " '1353c046-eb45-42fb-94f7-9320a0c5f86d',\n",
       " '6aaceaf6-44e6-4f9b-a3c9-7a7a4f9115d5',\n",
       " 'd566212e-88dc-42bb-b7e5-97d988c91a00',\n",
       " '7a2e8468-8350-4341-ad85-043d62d02149',\n",
       " '00b7e067-765e-4fc2-812b-16ba82fbfb28',\n",
       " '38f02f78-2eef-4fd2-820f-bd90912df8eb',\n",
       " '357c7d63-405c-4396-bf62-97f70b2b6b39',\n",
       " 'ddd7f090-5639-4c0f-ae4f-f7c99ef4df70',\n",
       " 'ea6efe9f-3e10-4c3c-8b28-c62da19295b3',\n",
       " '7a4b7714-281c-4da9-802c-883bdf02fee8',\n",
       " 'b71c379b-96cb-423e-9cc9-4e5dd290aa3d',\n",
       " '7c49cb23-f157-4d8d-a0d1-5d2178727dc5',\n",
       " '1f15da1b-6ebe-47e3-af56-5e8dcc9e4fde',\n",
       " '210fbd11-f428-4fab-86b3-96e089b6af64',\n",
       " '46a9e87c-e05b-48ee-8f30-d34618f76e0b',\n",
       " '5b20f4d5-6906-4d25-9a10-a490130b99bb',\n",
       " '9b0f37b1-bdd2-485a-b1ec-a07554cdcd55',\n",
       " '75f60c39-38f3-47c7-8a44-5c402d3698d6',\n",
       " 'c52da7c0-76c2-433c-9c66-351ad4e2801a',\n",
       " '1419bcef-1a21-47b4-9f83-9a623e3d0013',\n",
       " 'b69a9c36-d57c-4774-8dae-0252656a939a']"
      ]
     },
     "execution_count": 15,
     "metadata": {},
     "output_type": "execute_result"
    }
   ],
   "source": [
    "from langchain_pinecone import PineconeVectorStore\n",
    "from langchain_cohere import CohereEmbeddings\n",
    "\n",
    "\n",
    "embeddings = CohereEmbeddings(model=\"embed-english-v3.0\")\n",
    "\n",
    "vector_store = PineconeVectorStore(\n",
    "    index=index,\n",
    "    embedding=embeddings # Embedding model (Cohere)\n",
    ")\n",
    "\n",
    "# Add documents\n",
    "vector_store.add_documents(documents=docs)"
   ]
  },
  {
   "cell_type": "markdown",
   "id": "257340a3-c6af-45cd-b071-134fb2a99b96",
   "metadata": {},
   "source": [
    "## Phase 2:  Retrieval "
   ]
  },
  {
   "cell_type": "markdown",
   "id": "e4347683-5c15-4ddd-94c0-f098710e43fd",
   "metadata": {},
   "source": [
    "The goal of retrieval is to find the most relevant information from our knowledge base (the vector store) to answer a user's question"
   ]
  },
  {
   "cell_type": "code",
   "execution_count": 16,
   "id": "39a2d4d5-d557-4ac0-b350-f647eba91fb6",
   "metadata": {},
   "outputs": [],
   "source": [
    "retriever = vector_store.as_retriever(\n",
    "    search_type=\"similarity\", \n",
    "    search_kwargs={\"k\":5, \"filter\": {\"source\": \"aircAruvnKk\"}}\n",
    ")"
   ]
  },
  {
   "cell_type": "code",
   "execution_count": 17,
   "id": "6b1d54d9-fb7f-404b-ad0c-d1baf35b91d8",
   "metadata": {},
   "outputs": [
    {
     "data": {
      "text/plain": [
       "VectorStoreRetriever(tags=['PineconeVectorStore', 'CohereEmbeddings'], vectorstore=<langchain_pinecone.vectorstores.PineconeVectorStore object at 0x000001A7EC426470>, search_kwargs={'k': 5, 'filter': {'source': 'aircAruvnKk'}})"
      ]
     },
     "execution_count": 17,
     "metadata": {},
     "output_type": "execute_result"
    }
   ],
   "source": [
    "retriever"
   ]
  },
  {
   "cell_type": "code",
   "execution_count": 19,
   "id": "058b3bc8-b110-4722-84ab-72c60220a7e0",
   "metadata": {
    "scrolled": true
   },
   "outputs": [
    {
     "name": "stdout",
     "output_type": "stream",
     "text": [
      "Retrieved 5 documents.\n",
      "\n",
      "--- Document 1 ---\n",
      "\n",
      "the more powerful modern variants, and trust me it still has plenty of complexity for us to wrap our minds around. But even in this simplest form it can learn to recognize handwritten digits, which is a pretty cool thing for a computer to be able to do. And at the same time you'll see how it does fall short of a couple hopes that we might have for it. As the name suggests neural networks are inspired by the brain, but let's break that down. What are the neurons, and in what sense are they linked together? Right now when I say neuron all I want you to think about is a thing that holds a number, specifically a number between 0 and 1. It's really not more than that. For example the network starts with a bunch of neurons corresponding to each of the 28x28 pixels of the input image, which is 784 neurons in total. Each one of these holds a number that represents the grayscale value of the corresponding pixel, ranging from 0 for black pixels up to 1 for white pixels. This number inside the\n",
      "\n",
      "--- Document 2 ---\n",
      "\n",
      "numbers that they hold depends on the image you feed in, so it's actually more accurate to think of each neuron as a function, one that takes in the outputs of all the neurons in the previous layer and spits out a number between 0 and 1. Really the entire network is just a function, one that takes in 784 numbers as an input and spits out 10 numbers as an output. It's an absurdly complicated function, one that involves 13,000 parameters in the forms of these weights and biases that pick up on certain patterns, and which involves iterating many matrix vector products and the sigmoid squishification function, but it's just a function nonetheless. And in a way it's kind of reassuring that it looks complicated. I mean if it were any simpler, what hope would we have that it could take on the challenge of recognizing digits? And how does it take on that challenge? How does this network learn the appropriate weights and biases just by looking at data? Well that's what I'll show in the next\n",
      "\n",
      "--- Document 3 ---\n",
      "\n",
      "in a grid of 28x28 pixels like this and outputs a single number between 0 and 10, telling you what it thinks the digit is, well the task goes from comically trivial to dauntingly difficult. Unless you've been living under a rock, I think I hardly need to motivate the relevance and importance of machine learning and neural networks to the present and to the future. But what I want to do here is show you what a neural network actually is, assuming no background, and to help visualize what it's doing, not as a buzzword but as a piece of math. My hope is that you come away feeling like the structure itself is motivated, and to feel like you know what it means when you read, or you hear about a neural network quote-unquote learning. This video is just going to be devoted to the structure component of that, and the following one is going to tackle learning. What we're going to do is put together a neural network that can learn to recognize handwritten digits. This is a somewhat classic\n",
      "\n",
      "--- Document 4 ---\n",
      "\n",
      "of neurons firing cause certain others to fire. Now the network I'm showing here has already been trained to recognize digits, and let me show you what I mean by that. It means if you feed in an image, lighting up all 784 neurons of the input layer according to the brightness of each pixel in the image, that pattern of activations causes some very specific pattern in the next layer which causes some pattern in the one after it, which finally gives some pattern in the output layer. And the brightest neuron of that output layer is the network's choice, so to speak, for what digit this image represents. And before jumping into the math for how one layer influences the next, or how training works, let's just talk about why it's even reasonable to expect a layered structure like this to behave intelligently. What are we expecting here? What is the best hope for what those middle layers might be doing? Well, when you or I recognize digits, we piece together various components. A 9 has a\n",
      "\n",
      "--- Document 5 ---\n",
      "\n",
      "we represent it by organizing all those biases into a vector, and adding the entire vector to the previous matrix vector product. Then as a final step, I'll wrap a sigmoid around the outside here, and what that's supposed to represent is that you're going to apply the sigmoid function to each specific component of the resulting vector inside. So once you write down this weight matrix and these vectors as their own symbols, you can communicate the full transition of activations from one layer to the next in an extremely tight and neat little expression, and this makes the relevant code both a lot simpler and a lot faster, since many libraries optimize the heck out of matrix multiplication. Remember how earlier I said these neurons are simply things that hold numbers? Well of course the specific numbers that they hold depends on the image you feed in, so it's actually more accurate to think of each neuron as a function, one that takes in the outputs of all the neurons in the previous\n"
     ]
    }
   ],
   "source": [
    "question = \"What are neural networks, and how do they work?\"\n",
    "\n",
    "\n",
    "retrieved_docs = retriever.invoke(question)\n",
    "\n",
    "# Let's inspect the retrieved documents\n",
    "print(f\"Retrieved {len(retrieved_docs)} documents.\")\n",
    "for i, doc in enumerate(retrieved_docs):\n",
    "    print(f\"\\n--- Document {i+1} ---\\n\")\n",
    "    print(doc.page_content)"
   ]
  },
  {
   "cell_type": "markdown",
   "id": "f92eec1e-65dd-4526-91e2-f4d1a0221193",
   "metadata": {},
   "source": [
    "## Phase 3 Augmentation "
   ]
  },
  {
   "cell_type": "markdown",
   "id": "24da9145-1ade-4624-b3e3-9966ca389005",
   "metadata": {},
   "source": [
    "The goal of augmentation is to create a well-formed prompt for the LLM by combining the retrieved context with the original question."
   ]
  },
  {
   "cell_type": "markdown",
   "id": "dec55166-4594-40cd-8a29-bd3a86aad9ef",
   "metadata": {},
   "source": [
    "### 3.1 Prompt template"
   ]
  },
  {
   "cell_type": "code",
   "execution_count": 20,
   "id": "17da0662-4b7e-4ccd-80a2-3c229a1536c0",
   "metadata": {},
   "outputs": [],
   "source": [
    "from langchain_core.prompts import PromptTemplate\n",
    "\n",
    "# Improved professional Q&A assistant prompt template for YouTube transcripts\n",
    "\n",
    "template = \"\"\"\n",
    "You are an expert Q&A assistant specialized in answering questions about YouTube videos.\n",
    "\n",
    "Your responses must be based **entirely** on the  context provided below, as well as what you already know . \n",
    "\n",
    "### Guidelines:\n",
    "1. Provide a **clear**, **detailed**, and **well-structured** answer formatted in Markdown.\n",
    "2. If the context lacks sufficient details, reply with:\n",
    "   > The provided context does not contain enough information to answer this question.\n",
    "4. Keep your tone professional and concise.\n",
    "\n",
    "---\n",
    "\n",
    "### Context:\n",
    "{context}\n",
    "\n",
    "---\n",
    "\n",
    "### User Question:\n",
    "{question}\n",
    "\n",
    "---\n",
    "\n",
    "### Answer:\n",
    "\"\"\"\n",
    "\n",
    "prompt = PromptTemplate.from_template(template)\n"
   ]
  },
  {
   "cell_type": "markdown",
   "id": "ea0e8d87-2ff2-4249-86b7-0929e2a98c8d",
   "metadata": {},
   "source": [
    "### 3.2 Format the retrieved documents"
   ]
  },
  {
   "cell_type": "code",
   "execution_count": 21,
   "id": "08d1f7bc-18fa-4b9b-8a9f-94c123c3c3c6",
   "metadata": {},
   "outputs": [
    {
     "name": "stdout",
     "output_type": "stream",
     "text": [
      "the more powerful modern variants, and trust me it still has plenty of complexity for us to wrap our minds around. But even in this simplest form it can learn to recognize handwritten digits, which is a pretty cool thing for a computer to be able to do. And at the same time you'll see how it does fall short of a couple hopes that we might have for it. As the name suggests neural networks are inspired by the brain, but let's break that down. What are the neurons, and in what sense are they linked together? Right now when I say neuron all I want you to think about is a thing that holds a number, specifically a number between 0 and 1. It's really not more than that. For example the network starts with a bunch of neurons corresponding to each of the 28x28 pixels of the input image, which is 784 neurons in total. Each one of these holds a number that represents the grayscale value of the corresponding pixel, ranging from 0 for black pixels up to 1 for white pixels. This number inside the\n",
      "\n",
      "numbers that they hold depends on the image you feed in, so it's actually more accurate to think of each neuron as a function, one that takes in the outputs of all the neurons in the previous layer and spits out a number between 0 and 1. Really the entire network is just a function, one that takes in 784 numbers as an input and spits out 10 numbers as an output. It's an absurdly complicated function, one that involves 13,000 parameters in the forms of these weights and biases that pick up on certain patterns, and which involves iterating many matrix vector products and the sigmoid squishification function, but it's just a function nonetheless. And in a way it's kind of reassuring that it looks complicated. I mean if it were any simpler, what hope would we have that it could take on the challenge of recognizing digits? And how does it take on that challenge? How does this network learn the appropriate weights and biases just by looking at data? Well that's what I'll show in the next\n",
      "\n",
      "in a grid of 28x28 pixels like this and outputs a single number between 0 and 10, telling you what it thinks the digit is, well the task goes from comically trivial to dauntingly difficult. Unless you've been living under a rock, I think I hardly need to motivate the relevance and importance of machine learning and neural networks to the present and to the future. But what I want to do here is show you what a neural network actually is, assuming no background, and to help visualize what it's doing, not as a buzzword but as a piece of math. My hope is that you come away feeling like the structure itself is motivated, and to feel like you know what it means when you read, or you hear about a neural network quote-unquote learning. This video is just going to be devoted to the structure component of that, and the following one is going to tackle learning. What we're going to do is put together a neural network that can learn to recognize handwritten digits. This is a somewhat classic\n",
      "\n",
      "of neurons firing cause certain others to fire. Now the network I'm showing here has already been trained to recognize digits, and let me show you what I mean by that. It means if you feed in an image, lighting up all 784 neurons of the input layer according to the brightness of each pixel in the image, that pattern of activations causes some very specific pattern in the next layer which causes some pattern in the one after it, which finally gives some pattern in the output layer. And the brightest neuron of that output layer is the network's choice, so to speak, for what digit this image represents. And before jumping into the math for how one layer influences the next, or how training works, let's just talk about why it's even reasonable to expect a layered structure like this to behave intelligently. What are we expecting here? What is the best hope for what those middle layers might be doing? Well, when you or I recognize digits, we piece together various components. A 9 has a\n",
      "\n",
      "we represent it by organizing all those biases into a vector, and adding the entire vector to the previous matrix vector product. Then as a final step, I'll wrap a sigmoid around the outside here, and what that's supposed to represent is that you're going to apply the sigmoid function to each specific component of the resulting vector inside. So once you write down this weight matrix and these vectors as their own symbols, you can communicate the full transition of activations from one layer to the next in an extremely tight and neat little expression, and this makes the relevant code both a lot simpler and a lot faster, since many libraries optimize the heck out of matrix multiplication. Remember how earlier I said these neurons are simply things that hold numbers? Well of course the specific numbers that they hold depends on the image you feed in, so it's actually more accurate to think of each neuron as a function, one that takes in the outputs of all the neurons in the previous\n"
     ]
    }
   ],
   "source": [
    "def format_docs(docs):\n",
    "    return \"\\n\\n\".join(doc.page_content for doc in docs)\n",
    "\n",
    "context_text = format_docs(retrieved_docs)\n",
    "print(context_text)"
   ]
  },
  {
   "cell_type": "markdown",
   "id": "6ab9056b-296f-4316-ba62-a6cbd519c7aa",
   "metadata": {},
   "source": [
    "### 3.3 Invoke the prompt with the context and question"
   ]
  },
  {
   "cell_type": "code",
   "execution_count": 22,
   "id": "b2e7127a-b5ef-4292-8898-e1e99af4fb8f",
   "metadata": {},
   "outputs": [
    {
     "name": "stdout",
     "output_type": "stream",
     "text": [
      "--- Final Augmented Prompt ---\n",
      "\n",
      "\n",
      "You are an expert Q&A assistant specialized in answering questions about YouTube videos.\n",
      "\n",
      "Your responses must be based **entirely** on the  context provided below, as well as what you already know . \n",
      "\n",
      "### Guidelines:\n",
      "1. Provide a **clear**, **detailed**, and **well-structured** answer formatted in Markdown.\n",
      "2. If the context lacks sufficient details, reply with:\n",
      "   > The provided context does not contain enough information to answer this question.\n",
      "4. Keep your tone professional and concise.\n",
      "\n",
      "---\n",
      "\n",
      "### Context:\n",
      "the more powerful modern variants, and trust me it still has plenty of complexity for us to wrap our minds around. But even in this simplest form it can learn to recognize handwritten digits, which is a pretty cool thing for a computer to be able to do. And at the same time you'll see how it does fall short of a couple hopes that we might have for it. As the name suggests neural networks are inspired by the brain, but let's break that down. What are the neurons, and in what sense are they linked together? Right now when I say neuron all I want you to think about is a thing that holds a number, specifically a number between 0 and 1. It's really not more than that. For example the network starts with a bunch of neurons corresponding to each of the 28x28 pixels of the input image, which is 784 neurons in total. Each one of these holds a number that represents the grayscale value of the corresponding pixel, ranging from 0 for black pixels up to 1 for white pixels. This number inside the\n",
      "\n",
      "numbers that they hold depends on the image you feed in, so it's actually more accurate to think of each neuron as a function, one that takes in the outputs of all the neurons in the previous layer and spits out a number between 0 and 1. Really the entire network is just a function, one that takes in 784 numbers as an input and spits out 10 numbers as an output. It's an absurdly complicated function, one that involves 13,000 parameters in the forms of these weights and biases that pick up on certain patterns, and which involves iterating many matrix vector products and the sigmoid squishification function, but it's just a function nonetheless. And in a way it's kind of reassuring that it looks complicated. I mean if it were any simpler, what hope would we have that it could take on the challenge of recognizing digits? And how does it take on that challenge? How does this network learn the appropriate weights and biases just by looking at data? Well that's what I'll show in the next\n",
      "\n",
      "in a grid of 28x28 pixels like this and outputs a single number between 0 and 10, telling you what it thinks the digit is, well the task goes from comically trivial to dauntingly difficult. Unless you've been living under a rock, I think I hardly need to motivate the relevance and importance of machine learning and neural networks to the present and to the future. But what I want to do here is show you what a neural network actually is, assuming no background, and to help visualize what it's doing, not as a buzzword but as a piece of math. My hope is that you come away feeling like the structure itself is motivated, and to feel like you know what it means when you read, or you hear about a neural network quote-unquote learning. This video is just going to be devoted to the structure component of that, and the following one is going to tackle learning. What we're going to do is put together a neural network that can learn to recognize handwritten digits. This is a somewhat classic\n",
      "\n",
      "of neurons firing cause certain others to fire. Now the network I'm showing here has already been trained to recognize digits, and let me show you what I mean by that. It means if you feed in an image, lighting up all 784 neurons of the input layer according to the brightness of each pixel in the image, that pattern of activations causes some very specific pattern in the next layer which causes some pattern in the one after it, which finally gives some pattern in the output layer. And the brightest neuron of that output layer is the network's choice, so to speak, for what digit this image represents. And before jumping into the math for how one layer influences the next, or how training works, let's just talk about why it's even reasonable to expect a layered structure like this to behave intelligently. What are we expecting here? What is the best hope for what those middle layers might be doing? Well, when you or I recognize digits, we piece together various components. A 9 has a\n",
      "\n",
      "we represent it by organizing all those biases into a vector, and adding the entire vector to the previous matrix vector product. Then as a final step, I'll wrap a sigmoid around the outside here, and what that's supposed to represent is that you're going to apply the sigmoid function to each specific component of the resulting vector inside. So once you write down this weight matrix and these vectors as their own symbols, you can communicate the full transition of activations from one layer to the next in an extremely tight and neat little expression, and this makes the relevant code both a lot simpler and a lot faster, since many libraries optimize the heck out of matrix multiplication. Remember how earlier I said these neurons are simply things that hold numbers? Well of course the specific numbers that they hold depends on the image you feed in, so it's actually more accurate to think of each neuron as a function, one that takes in the outputs of all the neurons in the previous\n",
      "\n",
      "---\n",
      "\n",
      "### User Question:\n",
      "What are neural networks, and how do they work?\n",
      "\n",
      "---\n",
      "\n",
      "### Answer:\n",
      "\n"
     ]
    }
   ],
   "source": [
    "final_prompt = prompt.invoke({\"context\": context_text, \"question\": question})\n",
    "\n",
    "print(\"--- Final Augmented Prompt ---\\n\")\n",
    "print(final_prompt.to_string())"
   ]
  },
  {
   "cell_type": "markdown",
   "id": "fec6a72a-74fe-4578-af60-f6f49ac7dc52",
   "metadata": {},
   "source": [
    "## Phase 4 : Generation "
   ]
  },
  {
   "cell_type": "code",
   "execution_count": 25,
   "id": "f106dc8a-8087-45da-8a70-a65111648971",
   "metadata": {},
   "outputs": [],
   "source": [
    "from IPython.display import Markdown\n",
    "import textwrap\n",
    "\n",
    "def to_markdown(text):\n",
    "  \"\"\"\n",
    "    Convert a string to a Markdown-formatted block for display in Jupyter notebooks.\n",
    "\n",
    "    - Replaces bullet points ('•') with Markdown-style bullets ('  *').\n",
    "    - Indents the text for blockquote formatting.\n",
    "    - Returns an IPython.display.Markdown object.\n",
    "  \"\"\"\n",
    "  text = text.replace('•', '  *')\n",
    "  return Markdown(textwrap.indent(text, '> ', predicate=lambda _: True))"
   ]
  },
  {
   "cell_type": "code",
   "execution_count": 26,
   "id": "4e2b825e-d849-4dc0-a030-de84eae84735",
   "metadata": {},
   "outputs": [
    {
     "name": "stdout",
     "output_type": "stream",
     "text": [
      "--- Final Generated Answer ---\n",
      "\n"
     ]
    },
    {
     "data": {
      "text/markdown": [
       "> Neural networks are computational models inspired by the brain, composed of interconnected \"neurons.\" They are essentially complex functions designed to take in numerical inputs and produce numerical outputs.\n",
       "> \n",
       "> Here's a breakdown of how they work:\n",
       "> \n",
       "> 1.  **Neurons:**\n",
       ">     *   At their core, neurons are entities that hold a number, specifically a value between 0 and 1.\n",
       ">     *   More accurately, each neuron functions as a function itself, taking inputs from all neurons in the preceding layer and outputting a single number between 0 and 1.\n",
       "> \n",
       "> 2.  **Layers:**\n",
       ">     *   Neural networks are structured in layers.\n",
       ">     *   **Input Layer:** For tasks like recognizing handwritten digits, the input layer consists of neurons corresponding to each pixel of an input image (e.g., 784 neurons for a 28x28 pixel image). Each neuron in this layer holds a number representing the grayscale value of its corresponding pixel (0 for black, 1 for white).\n",
       ">     *   **Hidden Layers:** These are intermediate layers where complex computations occur, processing the activations from the previous layer.\n",
       ">     *   **Output Layer:** The final layer, where the network's decision or prediction is presented. For digit recognition, this might be 10 neurons, with the brightest neuron indicating the network's chosen digit.\n",
       "> \n",
       "> 3.  **Information Flow (Activation):**\n",
       ">     *   When an image is fed into the network, the input layer neurons are \"lit up\" according to the brightness of each pixel.\n",
       ">     *   This pattern of activations then causes a specific pattern in the next layer, which in turn influences the subsequent layer, and so on, until a final pattern emerges in the output layer.\n",
       ">     *   The neuron with the highest activation (brightest) in the output layer represents the network's \"choice\" for the input.\n",
       "> \n",
       "> 4.  **Mathematical Operations:**\n",
       ">     *   The transition of activations from one layer to the next is governed by mathematical operations involving:\n",
       ">         *   **Weights and Biases:** These are parameters that the network learns to adjust. Weights determine the strength of connection between neurons, while biases are added to the weighted sums. The network involves around 13,000 such parameters to pick up on specific patterns.\n",
       ">         *   **Matrix Vector Products:** Activations are propagated through the network using matrix-vector multiplication, which efficiently handles the interactions between neurons across layers.\n",
       ">         *   **Sigmoid Function (Squishification Function):** After the weighted sum and bias addition, a sigmoid function is applied to each component of the resulting vector. This function \"squishes\" the values to be between 0 and 1, ensuring they remain within the valid range for neuron activations.\n",
       "> \n",
       "> 5.  **Learning:**\n",
       ">     *   Neural networks \"learn\" by adjusting their weights and biases based on provided data. This process allows them to identify and pick up on patterns necessary for tasks like recognizing digits."
      ],
      "text/plain": [
       "<IPython.core.display.Markdown object>"
      ]
     },
     "execution_count": 26,
     "metadata": {},
     "output_type": "execute_result"
    }
   ],
   "source": [
    "from langchain_google_genai import GoogleGenerativeAI\n",
    "\n",
    "\n",
    "llm = GoogleGenerativeAI(model=\"gemini-2.5-flash\")\n",
    "\n",
    "\n",
    "response_message = llm.invoke(final_prompt)\n",
    "\n",
    "print(\"--- Final Generated Answer ---\\n\")\n",
    "to_markdown(response_message)"
   ]
  },
  {
   "cell_type": "markdown",
   "id": "87fa4ee4-918d-4db8-8903-67f92f3654b9",
   "metadata": {},
   "source": [
    "## Phase 5 Building the RAG Chain with LCEL"
   ]
  },
  {
   "cell_type": "markdown",
   "id": "c771e03b-5d70-47a5-8d23-c037ec19f6cd",
   "metadata": {},
   "source": [
    "Now that we understand each phase, we can use the LangChain Expression Language (LCEL) to compose them into a single, elegant pipeline.\n"
   ]
  },
  {
   "cell_type": "code",
   "execution_count": 28,
   "id": "988c80c1-4f7c-4a1c-a69c-7190b4f47578",
   "metadata": {},
   "outputs": [
    {
     "name": "stdout",
     "output_type": "stream",
     "text": [
      "RAG chain created successfully!\n"
     ]
    }
   ],
   "source": [
    "from langchain_core.runnables import RunnablePassthrough,RunnableLambda\n",
    "\n",
    "# The main RAG chain\n",
    "rag_chain = (\n",
    "    # The first part is a dictionary with the context and question.\n",
    "    {\n",
    "        # The context is generated by retrieving documents and formatting them.\n",
    "        \"context\": retriever | RunnableLambda(format_docs), \n",
    "        # The question is passed through directly from the input.\n",
    "        \"question\": RunnablePassthrough()\n",
    "    }\n",
    "    # The dictionary is piped into the prompt template.\n",
    "    | prompt\n",
    "    # The prompt is piped into the LLM.\n",
    "    | llm\n",
    ")\n",
    "\n",
    "print(\"RAG chain created successfully!\")"
   ]
  },
  {
   "cell_type": "code",
   "execution_count": 29,
   "id": "1e0bda4e-1ab1-4096-b597-6851ef079847",
   "metadata": {},
   "outputs": [
    {
     "name": "stdout",
     "output_type": "stream",
     "text": [
      "Question: Can you summarize the video's discussion?\n",
      "\n",
      "Answer:\n",
      "\n"
     ]
    },
    {
     "data": {
      "text/markdown": [
       "> This video introduces the fundamental concepts of neural networks, specifically focusing on their structure, with the goal of explaining what a neural network actually is and how it \"learns\" as a piece of mathematics rather than just a buzzword.\n",
       "> \n",
       "> Key discussion points include:\n",
       "> *   **The Task:** The video aims to build a neural network capable of recognizing handwritten digits, a classic example in the field. The network takes a 28x28 pixel image as input and outputs a single number between 0 and 10, representing the recognized digit.\n",
       "> *   **Video Structure:** This particular video is devoted to the \"structure\" component of neural networks, while the subsequent video will delve into the \"learning\" process—how the network adjusts its weights and biases by looking at data.\n",
       "> *   **Network Type:** The video focuses on the simplest, \"plain vanilla\" form of neural networks, which is presented as a necessary prerequisite for understanding more powerful modern variants.\n",
       "> *   **Layers of Abstraction:** The concept of how neural networks can combine inputs (like pixels) into higher-level features (like edges, then patterns, then digits) through layers of abstraction is discussed.\n",
       "> *   **Sigmoid Function:** The video briefly touches upon the sigmoid function, noting its historical use in early networks to \"squish\" weighted sums into an interval between zero and one, drawing an analogy to neurons being active or inactive.\n",
       "> *   **Funding and Collaboration:** Lisha Li, who did her PhD work on the theoretical side of deep learning and works at Amplify Partners (a venture capital firm that provided funding for the video), is featured to discuss the sigmoid function.\n",
       "> *   **Future Content:** The speaker mentions an upcoming video on the learning process, ongoing updates for a probability series for Patreon supporters, and resources for further learning and code download will be provided after the two videos."
      ],
      "text/plain": [
       "<IPython.core.display.Markdown object>"
      ]
     },
     "execution_count": 29,
     "metadata": {},
     "output_type": "execute_result"
    }
   ],
   "source": [
    "question_summary = \"Can you summarize the video's discussion?\"\n",
    "final_response = rag_chain.invoke(question_summary)\n",
    "\n",
    "print(f\"Question: {question_summary}\\n\")\n",
    "print(f\"Answer:\\n\")\n",
    "to_markdown(final_response)"
   ]
  },
  {
   "cell_type": "markdown",
   "id": "df9e7731-e4b3-45cc-b249-e503de483500",
   "metadata": {},
   "source": [
    "## Multi-Query Retriever"
   ]
  },
  {
   "cell_type": "markdown",
   "id": "4bdb1f32-027c-4617-af64-c08654591d32",
   "metadata": {},
   "source": [
    "Uses an LLM to generate multiple variations of the user's query, retrieves documents for each variation, and returns the unique union of results.\n",
    "\n",
    "**Use Cases**:\n",
    "\n",
    "-   Handling **ambiguous** queries\n",
    "-   Systems where single queries might miss relevant documents"
   ]
  },
  {
   "cell_type": "code",
   "execution_count": 31,
   "id": "c106f431-3512-4698-957a-e5e6c37928bd",
   "metadata": {
    "scrolled": true
   },
   "outputs": [
    {
     "name": "stderr",
     "output_type": "stream",
     "text": [
      "INFO:langchain.retrievers.multi_query:Generated queries: ['1.  Explain the fundamental principles and operational mechanisms of artificial neural networks.', '2.  Describe the architecture and learning processes of neural networks, including their core components and algorithms.', '3.  How do neural networks function to process information and make predictions or classifications?']\n"
     ]
    },
    {
     "name": "stdout",
     "output_type": "stream",
     "text": [
      "Retrieved 8 documents.\n",
      "\n",
      "--- Document 1 ---\n",
      "\n",
      "we represent it by organizing all those biases into a vector, and adding the entire vector to the previous matrix vector product. Then as a final step, I'll wrap a sigmoid around the outside here, and what that's supposed to represent is that you're going to apply the sigmoid function to each specific component of the resulting vector inside. So once you write down this weight matrix and these vectors as their own symbols, you can communicate the full transition of activations from one layer to the next in an extremely tight and neat little expression, and this makes the relevant code both a lot simpler and a lot faster, since many libraries optimize the heck out of matrix multiplication. Remember how earlier I said these neurons are simply things that hold numbers? Well of course the specific numbers that they hold depends on the image you feed in, so it's actually more accurate to think of each neuron as a function, one that takes in the outputs of all the neurons in the previous\n",
      "\n",
      "--- Document 2 ---\n",
      "\n",
      "the more powerful modern variants, and trust me it still has plenty of complexity for us to wrap our minds around. But even in this simplest form it can learn to recognize handwritten digits, which is a pretty cool thing for a computer to be able to do. And at the same time you'll see how it does fall short of a couple hopes that we might have for it. As the name suggests neural networks are inspired by the brain, but let's break that down. What are the neurons, and in what sense are they linked together? Right now when I say neuron all I want you to think about is a thing that holds a number, specifically a number between 0 and 1. It's really not more than that. For example the network starts with a bunch of neurons corresponding to each of the 28x28 pixels of the input image, which is 784 neurons in total. Each one of these holds a number that represents the grayscale value of the corresponding pixel, ranging from 0 for black pixels up to 1 for white pixels. This number inside the\n",
      "\n",
      "--- Document 3 ---\n",
      "\n",
      "numbers that they hold depends on the image you feed in, so it's actually more accurate to think of each neuron as a function, one that takes in the outputs of all the neurons in the previous layer and spits out a number between 0 and 1. Really the entire network is just a function, one that takes in 784 numbers as an input and spits out 10 numbers as an output. It's an absurdly complicated function, one that involves 13,000 parameters in the forms of these weights and biases that pick up on certain patterns, and which involves iterating many matrix vector products and the sigmoid squishification function, but it's just a function nonetheless. And in a way it's kind of reassuring that it looks complicated. I mean if it were any simpler, what hope would we have that it could take on the challenge of recognizing digits? And how does it take on that challenge? How does this network learn the appropriate weights and biases just by looking at data? Well that's what I'll show in the next\n",
      "\n",
      "--- Document 4 ---\n",
      "\n",
      "is what parameters should the network have? What dials and knobs should you be able to tweak so that it's expressive enough to potentially capture this pattern, or any other pixel pattern, or the pattern that several edges can make a loop, and other such things? Well, what we'll do is assign a weight to each one of the connections between our neuron and the neurons from the first layer. These weights are just numbers. Then take all of those activations from the first layer and compute their weighted sum according to these weights. I find it helpful to think of these weights as being organized into a little grid of their own, and I'm going to use green pixels to indicate positive weights, and red pixels to indicate negative weights, where the brightness of that pixel is some loose depiction of the weight's value. Now if we made the weights associated with almost all of the pixels zero except for some positive weights in this region that we care about, then taking the weighted sum of\n",
      "\n",
      "--- Document 5 ---\n",
      "\n",
      "black box, because when the network doesn't perform the way you anticipate, if you've built up a little bit of a relationship with what those weights and biases actually mean, you have a starting place for experimenting with how to change the structure to improve. Or when the network does work but not for the reasons you might expect, digging into what the weights and biases are doing is a good way to challenge your assumptions and really expose the full space of possible solutions. By the way, the actual function here is a little cumbersome to write down, don't you think? So let me show you a more notationally compact way that these connections are represented. This is how you'd see it if you choose to read up more about neural networks. Organize all of the activations from one layer into a column as a vector. Then organize all of the weights as a matrix, where each row of that matrix corresponds to the connections between one layer and a particular neuron in the next layer. What\n",
      "\n",
      "--- Document 6 ---\n",
      "\n",
      "the other layers also have a bunch of weights and biases associated with them. All said and done, this network has almost exactly 13,000 total weights and biases. 13,000 knobs and dials that can be tweaked and turned to make this network behave in different ways. So when we talk about learning, what that's referring to is getting the computer to find a valid setting for all of these many many numbers so that it'll actually solve the problem at hand. One thought experiment that is at once fun and kind of horrifying is to imagine sitting down and setting all of these weights and biases by hand, purposefully tweaking the numbers so that the second layer picks up on edges, the third layer picks up on patterns, etc. I personally find this satisfying rather than just treating the network as a total black box, because when the network doesn't perform the way you anticipate, if you've built up a little bit of a relationship with what those weights and biases actually mean, you have a starting\n",
      "\n",
      "--- Document 7 ---\n",
      "\n",
      "in a grid of 28x28 pixels like this and outputs a single number between 0 and 10, telling you what it thinks the digit is, well the task goes from comically trivial to dauntingly difficult. Unless you've been living under a rock, I think I hardly need to motivate the relevance and importance of machine learning and neural networks to the present and to the future. But what I want to do here is show you what a neural network actually is, assuming no background, and to help visualize what it's doing, not as a buzzword but as a piece of math. My hope is that you come away feeling like the structure itself is motivated, and to feel like you know what it means when you read, or you hear about a neural network quote-unquote learning. This video is just going to be devoted to the structure component of that, and the following one is going to tackle learning. What we're going to do is put together a neural network that can learn to recognize handwritten digits. This is a somewhat classic\n",
      "\n",
      "--- Document 8 ---\n",
      "\n",
      "of neurons firing cause certain others to fire. Now the network I'm showing here has already been trained to recognize digits, and let me show you what I mean by that. It means if you feed in an image, lighting up all 784 neurons of the input layer according to the brightness of each pixel in the image, that pattern of activations causes some very specific pattern in the next layer which causes some pattern in the one after it, which finally gives some pattern in the output layer. And the brightest neuron of that output layer is the network's choice, so to speak, for what digit this image represents. And before jumping into the math for how one layer influences the next, or how training works, let's just talk about why it's even reasonable to expect a layered structure like this to behave intelligently. What are we expecting here? What is the best hope for what those middle layers might be doing? Well, when you or I recognize digits, we piece together various components. A 9 has a\n"
     ]
    }
   ],
   "source": [
    "from langchain.retrievers.multi_query import MultiQueryRetriever\n",
    "import logging\n",
    "\n",
    "\n",
    "# Enable logging to see the expanded queries\n",
    "logging.basicConfig()\n",
    "logging.getLogger(\"langchain.retrievers.multi_query\").setLevel(logging.INFO)\n",
    "\n",
    "retriever_from_llm = MultiQueryRetriever.from_llm(\n",
    "    retriever=vector_store.as_retriever(search_type=\"similarity\", search_kwargs={\"k\":5, \"filter\": {\"source\": video_id}}),\n",
    "    llm=llm\n",
    "    \n",
    ")\n",
    "\n",
    "\n",
    "question=\"What are neural networks, and how do they work ? \"\n",
    "\n",
    "\n",
    "retrieved_docs = retriever_from_llm.invoke(question)\n",
    "\n",
    "# Let's inspect the retrieved documents\n",
    "print(f\"Retrieved {len(retrieved_docs)} documents.\")\n",
    "for i, doc in enumerate(retrieved_docs):\n",
    "    print(f\"\\n--- Document {i+1} ---\\n\")\n",
    "    print(doc.page_content)\n"
   ]
  },
  {
   "cell_type": "code",
   "execution_count": 32,
   "id": "6e927e86-36f7-4ee5-8953-7aac670f4547",
   "metadata": {},
   "outputs": [
    {
     "name": "stderr",
     "output_type": "stream",
     "text": [
      "INFO:langchain.retrievers.multi_query:Generated queries: ['Provide a definition and conceptual overview of neural networks.', 'Describe the internal workings and operational principles of artificial neural networks.', 'Explain the architecture, components, and learning process of neural networks.']\n"
     ]
    },
    {
     "name": "stdout",
     "output_type": "stream",
     "text": [
      "Question: What are neural networks, and how do they work ? \n",
      "\n",
      "Answer:\n",
      "\n"
     ]
    },
    {
     "data": {
      "text/markdown": [
       "> Neural networks are computational models inspired by the brain, structured as a \"piece of math\" rather than just a buzzword. They are essentially complex functions designed to process inputs and produce outputs, capable of tasks like recognizing handwritten digits.\n",
       "> \n",
       "> Here's a breakdown of what they are and how they work based on the provided context:\n",
       "> \n",
       "> **1. What are Neural Networks?**\n",
       "> *   They are inspired by the brain, consisting of interconnected \"neurons\" organized into layers.\n",
       "> *   The entire network functions as a single, complex mathematical function. For instance, a network for handwritten digit recognition takes 784 numbers (from a 28x28 pixel image) as input and outputs 10 numbers.\n",
       "> *   They contain a large number of adjustable \"parameters\" in the form of weights and biases (e.g., 13,000 in the described network), which act as \"knobs and dials\" that pick up on specific patterns in the data.\n",
       "> \n",
       "> **2. How Neural Networks Work (Structure and Processing):**\n",
       "> \n",
       "> *   **Neurons:** At their core, neurons are \"things that hold a number,\" specifically a value between 0 and 1. More accurately, each neuron is a function that takes the outputs (activations) of all neurons in the previous layer and \"spits out a number between 0 and 1.\"\n",
       "> *   **Input Layer:** The network begins with an input layer. For recognizing handwritten digits, there are 784 neurons, each corresponding to a pixel in a 28x28 input image. Each neuron holds a number representing the grayscale value of its pixel (0 for black, 1 for white).\n",
       "> *   **Layers and Connections:** Neurons are linked in a layered structure. The \"activations\" (the numbers held by neurons) from one layer influence the activations in the next.\n",
       "> *   **Weights:** Each connection between neurons in adjacent layers is assigned a \"weight,\" which is just a number. These weights are organized into a matrix. Positive weights are depicted as green pixels, and negative weights as red pixels, with brightness indicating value.\n",
       "> *   **Biases:** In addition to weights, each layer also has associated \"biases,\" which are organized into a vector.\n",
       "> *   **Processing Between Layers (Mathematical Representation):**\n",
       ">     1.  The activations from the previous layer are collected into a vector.\n",
       ">     2.  A \"weighted sum\" is computed by performing a matrix-vector product between the weight matrix (representing connections to the current layer) and the activation vector from the previous layer.\n",
       ">     3.  The bias vector for the current layer is added to this result.\n",
       ">     4.  Finally, a \"sigmoid function\" (or \"squishification function\") is applied to each component of the resulting vector. This ensures that the output number for each neuron in the current layer remains between 0 and 1.\n",
       ">     5.  This entire transition from one layer's activations to the next can be expressed compactly as `sigmoid(Weight_matrix * previous_activations_vector + bias_vector)`.\n",
       "> *   **Output Layer:** The final layer produces a pattern of activations. In the case of digit recognition, the brightest neuron in this output layer (which represents a digit from 0 to 10) indicates the network's prediction for what digit the input image represents.\n",
       "> *   **Learning:** The \"learning\" process in neural networks refers to the computer automatically finding the appropriate settings (values) for all these weights and biases. This allows the network to effectively solve the problem at hand, such as recognizing handwritten digits by identifying patterns like edges, loops, or other components. The provided context states that this video focuses on the structure, and the subsequent video will delve into how learning occurs."
      ],
      "text/plain": [
       "<IPython.core.display.Markdown object>"
      ]
     },
     "execution_count": 32,
     "metadata": {},
     "output_type": "execute_result"
    }
   ],
   "source": [
    "rag_chain = (\n",
    "    {\n",
    "        \"context\": retriever_from_llm | RunnableLambda(format_docs), \n",
    "        \"question\": RunnablePassthrough()\n",
    "    }\n",
    "    | prompt\n",
    "    | llm\n",
    ")\n",
    "\n",
    "\n",
    "final_response = rag_chain.invoke(question)\n",
    "\n",
    "print(f\"Question: {question}\\n\")\n",
    "print(f\"Answer:\\n\")\n",
    "to_markdown(final_response)"
   ]
  }
 ],
 "metadata": {
  "kernelspec": {
   "display_name": "langchain_env",
   "language": "python",
   "name": "langchain_env"
  },
  "language_info": {
   "codemirror_mode": {
    "name": "ipython",
    "version": 3
   },
   "file_extension": ".py",
   "mimetype": "text/x-python",
   "name": "python",
   "nbconvert_exporter": "python",
   "pygments_lexer": "ipython3",
   "version": "3.10.10"
  }
 },
 "nbformat": 4,
 "nbformat_minor": 5
}
